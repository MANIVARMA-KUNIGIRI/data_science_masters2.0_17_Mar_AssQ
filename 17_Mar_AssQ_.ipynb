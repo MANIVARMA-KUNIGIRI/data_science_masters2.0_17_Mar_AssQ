{
  "nbformat": 4,
  "nbformat_minor": 0,
  "metadata": {
    "colab": {
      "provenance": []
    },
    "kernelspec": {
      "name": "python3",
      "display_name": "Python 3"
    },
    "language_info": {
      "name": "python"
    }
  },
  "cells": [
    {
      "cell_type": "markdown",
      "source": [
        "Q1: What are missing values in a dataset? Why is it essential to handle missing values? Name some algorithms that are not affected by missing values"
      ],
      "metadata": {
        "id": "nVxcz1TW1Bn4"
      }
    },
    {
      "cell_type": "markdown",
      "source": [
        "**Missing Values in a Dataset:**\n",
        "\n",
        "Missing values in a dataset refer to the absence of values for certain observations or variables. These missing values are denoted by placeholders like NaN (Not a Number), null, or other representations depending on the data format. Missing values can occur for various reasons, including data entry errors, equipment failures, or the nature of the data collection process.\n",
        "\n",
        "**Importance of Handling Missing Values:**\n",
        "\n",
        "Handling missing values is essential for several reasons:\n",
        "\n",
        "1. **Biased Analysis:** If not addressed, missing values can lead to biased or inaccurate analysis and modeling.\n",
        "\n",
        "2. **Reduced Model Performance:** Many machine learning algorithms cannot handle missing values directly, and attempting to use them without addressing missing values may result in errors or degraded model performance.\n",
        "\n",
        "3. **Incomplete Insights:** Missing values may lead to incomplete insights, affecting the quality and reliability of the conclusions drawn from the data.\n",
        "\n",
        "4. **Data Quality:** Addressing missing values is crucial for maintaining overall data quality and ensuring the integrity of analytical results.\n",
        "\n",
        "**Algorithms Not Affected by Missing Values:**\n",
        "\n",
        "While many machine learning algorithms require complete datasets, some algorithms are inherently robust to missing values. These algorithms can handle missing values without requiring imputation or removal. Examples include:\n",
        "\n",
        "1. **Decision Trees:**\n",
        "   - **Property:** Robust to missing values.\n",
        "   - **Handling:** Decision trees can make decisions based on the available features at each node, and missing values are effectively treated as just another category.\n",
        "\n",
        "2. **Random Forests:**\n",
        "   - **Property:** Robust to missing values.\n",
        "   - **Handling:** Random forests are ensembles of decision trees, inheriting the robustness of decision trees regarding missing values.\n",
        "\n",
        "3. **K-Nearest Neighbors (KNN):**\n",
        "   - **Property:** Can handle missing values.\n",
        "   - **Handling:** KNN imputes missing values by taking the average of the nearest neighbors' values.\n",
        "\n",
        "4. **Naive Bayes:**\n",
        "   - **Property:** Generally robust to missing values.\n",
        "   - **Handling:** The Naive Bayes algorithm computes probabilities based on available feature values, and missing values are handled naturally.\n",
        "\n",
        "5. **Support Vector Machines (SVM):**\n",
        "   - **Property:** Can handle missing values.\n",
        "   - **Handling:** SVMs are relatively robust to missing values, as they focus on the support vectors in the feature space.\n",
        "\n",
        "6. **XGBoost (Extreme Gradient Boosting):**\n",
        "   - **Property:** Can handle missing values.\n",
        "   - **Handling:** XGBoost has mechanisms for handling missing values during training and prediction."
      ],
      "metadata": {
        "id": "HybjsAmT1UfQ"
      }
    },
    {
      "cell_type": "markdown",
      "source": [
        "Q2: List down techniques used to handle missing data. Give an example of each with python code."
      ],
      "metadata": {
        "id": "kveQsU9c18De"
      }
    },
    {
      "cell_type": "markdown",
      "source": [
        "Techniques that are used to handle missing data:\n",
        "1. Mean Imputation: filling the missing values with the mean of the feature. It works well when we have normally distributed data.\n",
        "\n",
        "2. Median Imputation: filling the missing values with the median of the feature. This method is used when we have outliers in the data.\n",
        "\n",
        "3. Mode Imputation: filling the missing values with the mode of the feature. This method is specially used for categorical values.\n",
        "\n",
        "4. Data Interpolation: estimating the unknown values within a dataset based on the known values.\n",
        "\n",
        "  i) Linear Interpolation.\n",
        "  ii) Cubic Interpolation.\n",
        "  iii) Polynomial Interpolation."
      ],
      "metadata": {
        "id": "0p5pFY8u1_Pf"
      }
    },
    {
      "cell_type": "code",
      "execution_count": 1,
      "metadata": {
        "id": "s-Zxs0bz0-ZL"
      },
      "outputs": [],
      "source": [
        "import seaborn as sns\n",
        "import numpy as np\n",
        "from scipy import stats\n",
        "import matplotlib.pyplot as plt"
      ]
    },
    {
      "cell_type": "code",
      "source": [
        "titanic = sns.load_dataset(\"titanic\")"
      ],
      "metadata": {
        "id": "NvtvkXep2vRr"
      },
      "execution_count": 2,
      "outputs": []
    },
    {
      "cell_type": "code",
      "source": [
        "titanic.isna().sum()"
      ],
      "metadata": {
        "colab": {
          "base_uri": "https://localhost:8080/"
        },
        "id": "zFu5dLZU2y0L",
        "outputId": "e1f3ffbd-7739-4593-9081-e4bd1f385940"
      },
      "execution_count": 3,
      "outputs": [
        {
          "output_type": "execute_result",
          "data": {
            "text/plain": [
              "survived         0\n",
              "pclass           0\n",
              "sex              0\n",
              "age            177\n",
              "sibsp            0\n",
              "parch            0\n",
              "fare             0\n",
              "embarked         2\n",
              "class            0\n",
              "who              0\n",
              "adult_male       0\n",
              "deck           688\n",
              "embark_town      2\n",
              "alive            0\n",
              "alone            0\n",
              "dtype: int64"
            ]
          },
          "metadata": {},
          "execution_count": 3
        }
      ]
    },
    {
      "cell_type": "code",
      "source": [
        "# we have 177 missing values in age column, 688 missing values in deck column and 2 missing values in both embarked and embark_town column.\n",
        "\n",
        "titanic['age'].fillna(titanic['age'].mean(), inplace = False) # filling the age column with mean of that column.\n",
        "titanic['age'].fillna(titanic['age'].mode()[0], inplace = False) # filling the age column with mode of that column.\n",
        "titanic['age'].fillna(titanic['age'].median(), inplace = False) # filling the age column with median of that column.\n",
        "\n",
        "titanic['deck'].fillna(titanic['deck'].mode()[0], inplace = False) # filling the deck column with mode of that column.\n",
        "\n",
        "titanic['embarked'].fillna(titanic['embarked'].mode()[0], inplace = False) # filling the embarked column with mode of that column.\n",
        "\n",
        "titanic['embark_town'].fillna(titanic['embark_town'].mode()[0], inplace = False) # filling the embark_town column with mode of that column.\n",
        "\n"
      ],
      "metadata": {
        "id": "ClA9s0om24Xr",
        "colab": {
          "base_uri": "https://localhost:8080/"
        },
        "outputId": "bca204f9-f2f1-4943-af3d-c8449d206e00"
      },
      "execution_count": 4,
      "outputs": [
        {
          "output_type": "execute_result",
          "data": {
            "text/plain": [
              "0      Southampton\n",
              "1        Cherbourg\n",
              "2      Southampton\n",
              "3      Southampton\n",
              "4      Southampton\n",
              "          ...     \n",
              "886    Southampton\n",
              "887    Southampton\n",
              "888    Southampton\n",
              "889      Cherbourg\n",
              "890     Queenstown\n",
              "Name: embark_town, Length: 891, dtype: object"
            ]
          },
          "metadata": {},
          "execution_count": 4
        }
      ]
    },
    {
      "cell_type": "code",
      "source": [
        "# linear interpolation\n",
        "x = np.array([1,2,3,4,5])\n",
        "y = np.array([1,4,6,8,10])\n",
        "\n",
        "plt.scatter(x, y)"
      ],
      "metadata": {
        "colab": {
          "base_uri": "https://localhost:8080/",
          "height": 447
        },
        "id": "Dq-8_gmxnCDC",
        "outputId": "779b8a1b-5b4f-4fbb-d069-131ab0a4a532"
      },
      "execution_count": 5,
      "outputs": [
        {
          "output_type": "execute_result",
          "data": {
            "text/plain": [
              "<matplotlib.collections.PathCollection at 0x79a2073d4b20>"
            ]
          },
          "metadata": {},
          "execution_count": 5
        },
        {
          "output_type": "display_data",
          "data": {
            "text/plain": [
              "<Figure size 640x480 with 1 Axes>"
            ],
            "image/png": "[encoded data removed]"
          },
          "metadata": {}
        }
      ]
    },
    {
      "cell_type": "code",
      "source": [
        "x_new = np.linspace(1, 5, 10)\n",
        "y_interp = np.interp(x_new, x, y)\n",
        "plt.scatter(x_new, y_interp)"
      ],
      "metadata": {
        "colab": {
          "base_uri": "https://localhost:8080/",
          "height": 447
        },
        "id": "x-EWoh7QwBXH",
        "outputId": "60ba25fb-cc7f-4684-e09b-cabf204637c7"
      },
      "execution_count": 6,
      "outputs": [
        {
          "output_type": "execute_result",
          "data": {
            "text/plain": [
              "<matplotlib.collections.PathCollection at 0x79a2052cad70>"
            ]
          },
          "metadata": {},
          "execution_count": 6
        },
        {
          "output_type": "display_data",
          "data": {
            "text/plain": [
              "<Figure size 640x480 with 1 Axes>"
            ],
            "image/png": "[encoded data removed]"
          },
          "metadata": {}
        }
      ]
    },
    {
      "cell_type": "code",
      "source": [
        "# cubic interpolation\n",
        "x = np.array([1, 2, 3, 4, 5])\n",
        "y = np.array([1, 8, 27, 64, 125])\n",
        "plt.scatter(x, y)"
      ],
      "metadata": {
        "id": "Oa0dSRqDwlJg",
        "outputId": "13d65c0e-e575-4fea-db21-e201044fac4f",
        "colab": {
          "base_uri": "https://localhost:8080/",
          "height": 447
        }
      },
      "execution_count": 7,
      "outputs": [
        {
          "output_type": "execute_result",
          "data": {
            "text/plain": [
              "<matplotlib.collections.PathCollection at 0x79a205361390>"
            ]
          },
          "metadata": {},
          "execution_count": 7
        },
        {
          "output_type": "display_data",
          "data": {
            "text/plain": [
              "<Figure size 640x480 with 1 Axes>"
            ],
            "image/png": "[encoded data removed]"
          },
          "metadata": {}
        }
      ]
    },
    {
      "cell_type": "code",
      "source": [
        "x_new = np.linspace(1, 5, 10)\n",
        "\n",
        "from scipy.interpolate import interp1d\n",
        "f = interp1d(x, y, kind = 'cubic')\n",
        "y_interp = f(x_new)\n",
        "plt.scatter(x_new, y_interp)"
      ],
      "metadata": {
        "id": "gw_2vBvxzD5U",
        "outputId": "a347833a-9025-48fc-ea9a-85c18d5311fa",
        "colab": {
          "base_uri": "https://localhost:8080/",
          "height": 447
        }
      },
      "execution_count": 8,
      "outputs": [
        {
          "output_type": "execute_result",
          "data": {
            "text/plain": [
              "<matplotlib.collections.PathCollection at 0x79a2051f8f40>"
            ]
          },
          "metadata": {},
          "execution_count": 8
        },
        {
          "output_type": "display_data",
          "data": {
            "text/plain": [
              "<Figure size 640x480 with 1 Axes>"
            ],
            "image/png": "[encoded data removed]"
          },
          "metadata": {}
        }
      ]
    },
    {
      "cell_type": "code",
      "source": [
        "# polynomial Interpolation\n",
        "x = np.array([1,2,3,4,5])\n",
        "y = np.array([1,4,9,16,25])\n",
        "plt.scatter(x, y)"
      ],
      "metadata": {
        "id": "BmU04g2u0qCw",
        "outputId": "4aa609d4-6cac-45af-a1c4-523ce36f624b",
        "colab": {
          "base_uri": "https://localhost:8080/",
          "height": 447
        }
      },
      "execution_count": 9,
      "outputs": [
        {
          "output_type": "execute_result",
          "data": {
            "text/plain": [
              "<matplotlib.collections.PathCollection at 0x79a205288790>"
            ]
          },
          "metadata": {},
          "execution_count": 9
        },
        {
          "output_type": "display_data",
          "data": {
            "text/plain": [
              "<Figure size 640x480 with 1 Axes>"
            ],
            "image/png": "[encoded data removed]"
          },
          "metadata": {}
        }
      ]
    },
    {
      "cell_type": "code",
      "source": [
        "x_new = np.linspace(1, 5, 10)\n",
        "p = np.polyfit(x, y, 2)\n",
        "y_interp = np.polyval(p, x_new)\n",
        "plt.scatter(x_new, y_interp)"
      ],
      "metadata": {
        "id": "CpXTIFXb1uuW",
        "outputId": "d9fbcb74-ac5f-4891-8dbb-e7ae37d7c601",
        "colab": {
          "base_uri": "https://localhost:8080/",
          "height": 447
        }
      },
      "execution_count": 10,
      "outputs": [
        {
          "output_type": "execute_result",
          "data": {
            "text/plain": [
              "<matplotlib.collections.PathCollection at 0x79a2030eb6d0>"
            ]
          },
          "metadata": {},
          "execution_count": 10
        },
        {
          "output_type": "display_data",
          "data": {
            "text/plain": [
              "<Figure size 640x480 with 1 Axes>"
            ],
            "image/png": "[encoded data removed]"
          },
          "metadata": {}
        }
      ]
    },
    {
      "cell_type": "markdown",
      "source": [
        "Q3: Explain the imbalanced data. What will happen if imbalanced data is not handled?\n"
      ],
      "metadata": {
        "id": "Q8Mxqa2KnXoK"
      }
    },
    {
      "cell_type": "markdown",
      "source": [
        "**Imbalanced Data:**\n",
        "\n",
        "In the context of machine learning, imbalanced data refers to a situation where the distribution of classes in the target variable is not equal. One class (the majority class) significantly outnumbers the instances of another class or classes (the minority class or classes). Imbalanced datasets are common in various domains, including fraud detection, medical diagnosis, and rare-event prediction.\n",
        "\n",
        "**Consequences of Not Handling Imbalanced Data:**\n",
        "\n",
        "If imbalanced data is not handled, it can lead to several challenges and issues, impacting the performance of machine learning models:\n",
        "\n",
        "1. **Biased Model Training:**\n",
        "   - **Issue:** The model may be biased toward the majority class because it has more instances to learn from.\n",
        "   - **Consequence:** The model might perform well on the majority class but poorly on the minority class.\n",
        "\n",
        "2. **Poor Generalization:**\n",
        "   - **Issue:** The model may struggle to generalize to new, unseen data, especially for the minority class.\n",
        "   - **Consequence:** The model may misclassify or completely ignore instances of the minority class in new data.\n",
        "\n",
        "3. **Misleading Evaluation Metrics:**\n",
        "   - **Issue:** Traditional accuracy can be misleading in imbalanced datasets.\n",
        "   - **Consequence:** The model may appear accurate if it predicts the majority class correctly but may perform poorly on the minority class.\n",
        "\n",
        "4. **Model Sensitivity to the Majority Class:**\n",
        "   - **Issue:** Models may prioritize predicting the majority class due to its prevalence.\n",
        "   - **Consequence:** The model may not pay sufficient attention to the minority class, leading to false negatives and missed opportunities.\n",
        "\n",
        "5. **Difficulty in Detecting Rare Events:**\n",
        "   - **Issue:** Rare events (e.g., fraud, diseases) may be challenging to detect when the data is imbalanced.\n",
        "   - **Consequence:** The model may fail to identify critical instances of the minority class.\n",
        "\n",
        "6. **Model Skewing Toward Majority Class:**\n",
        "   - **Issue:** The model might learn to always predict the majority class, achieving high accuracy but providing little value.\n",
        "   - **Consequence:** The model may not capture the patterns and nuances associated with the minority class.\n",
        "\n",
        "**Handling Imbalanced Data:**\n",
        "\n",
        "Several techniques can be employed to address imbalanced data:\n",
        "\n",
        "1. **Resampling:**\n",
        "   - **Over-sampling:** Increase the number of instances in the minority class.\n",
        "   - **Under-sampling:** Decrease the number of instances in the majority class.\n",
        "\n",
        "2. **Synthetic Data Generation:**\n",
        "   - **SMOTE (Synthetic Minority Over-sampling Technique):** Generate synthetic instances for the minority class to balance the dataset.\n",
        "\n",
        "3. **Cost-sensitive Learning:**\n",
        "   - **Assign different misclassification costs:** Increase the cost of misclassifying the minority class.\n",
        "\n",
        "4. **Ensemble Methods:**\n",
        "   - **Use ensemble methods (e.g., Random Forests):** These methods can handle imbalanced data better than some individual algorithms.\n",
        "\n",
        "5. **Different Evaluation Metrics:**\n",
        "   - **Use precision, recall, F1-score, or AUC-ROC:** These metrics provide a more comprehensive assessment of model performance in imbalanced datasets compared to accuracy.\n",
        "\n",
        "6. **Algorithm-Specific Approaches:**\n",
        "   - **Class weights:** Adjust class weights in algorithms like logistic regression or support vector machines to give more importance to the minority class."
      ],
      "metadata": {
        "id": "oE6gsO5ynmPx"
      }
    },
    {
      "cell_type": "markdown",
      "source": [
        "Q4: What are Up-sampling and Down-sampling? Explain with an example when up-sampling and down-sampling are required.\n"
      ],
      "metadata": {
        "id": "UOA7uvJYntrc"
      }
    },
    {
      "cell_type": "markdown",
      "source": [
        "Up-sampling and Down-sampling are techniques that are used to handle imbalance datasets.\n",
        "\n",
        "Up-sampling is used to increase the minority data points.\n",
        "\n",
        "Down-sampling is used to decrease the majority data points."
      ],
      "metadata": {
        "id": "SRejCXcrn8_G"
      }
    },
    {
      "cell_type": "code",
      "source": [
        "from sklearn.utils import resample\n",
        "from sklearn.datasets import make_classification\n",
        "import pandas as pd"
      ],
      "metadata": {
        "id": "UQVkqluJ2BBJ"
      },
      "execution_count": 11,
      "outputs": []
    },
    {
      "cell_type": "code",
      "source": [
        "x, y = make_classification(n_samples = 1000, n_redundant = 0, n_features = 2, n_clusters_per_class = 1, weights = [0.90], random_state = 14)"
      ],
      "metadata": {
        "id": "lhMeODmHowJz"
      },
      "execution_count": 12,
      "outputs": []
    },
    {
      "cell_type": "code",
      "source": [
        "df = pd.concat([pd.DataFrame(x, columns = ['f1', 'f2']), pd.DataFrame(y, columns = ['target'])], axis = 1)\n",
        "df.head()"
      ],
      "metadata": {
        "colab": {
          "base_uri": "https://localhost:8080/",
          "height": 206
        },
        "id": "Meq1ZlwxqqMf",
        "outputId": "0526f16f-143f-449e-e8f8-2ab5e041cc6e"
      },
      "execution_count": 13,
      "outputs": [
        {
          "output_type": "execute_result",
          "data": {
            "text/plain": [
              "         f1        f2  target\n",
              "0 -1.562821  0.885500       0\n",
              "1 -0.675617  1.276639       0\n",
              "2  2.812998  0.215672       1\n",
              "3 -0.999362  1.061059       0\n",
              "4 -1.654020  0.797742       0"
            ],
            "text/html": [
              "\n",
              "  <div id=\"df-41985467-3fa2-4f07-8dfe-cf18b1d6b308\" class=\"colab-df-container\">\n",
              "    <div>\n",
              "<style scoped>\n",
              "    .dataframe tbody tr th:only-of-type {\n",
              "        vertical-align: middle;\n",
              "    }\n",
              "\n",
              "    .dataframe tbody tr th {\n",
              "        vertical-align: top;\n",
              "    }\n",
              "\n",
              "    .dataframe thead th {\n",
              "        text-align: right;\n",
              "    }\n",
              "</style>\n",
              "<table border=\"1\" class=\"dataframe\">\n",
              "  <thead>\n",
              "    <tr style=\"text-align: right;\">\n",
              "      <th></th>\n",
              "      <th>f1</th>\n",
              "      <th>f2</th>\n",
              "      <th>target</th>\n",
              "    </tr>\n",
              "  </thead>\n",
              "  <tbody>\n",
              "    <tr>\n",
              "      <th>0</th>\n",
              "      <td>-1.562821</td>\n",
              "      <td>0.885500</td>\n",
              "      <td>0</td>\n",
              "    </tr>\n",
              "    <tr>\n",
              "      <th>1</th>\n",
              "      <td>-0.675617</td>\n",
              "      <td>1.276639</td>\n",
              "      <td>0</td>\n",
              "    </tr>\n",
              "    <tr>\n",
              "      <th>2</th>\n",
              "      <td>2.812998</td>\n",
              "      <td>0.215672</td>\n",
              "      <td>1</td>\n",
              "    </tr>\n",
              "    <tr>\n",
              "      <th>3</th>\n",
              "      <td>-0.999362</td>\n",
              "      <td>1.061059</td>\n",
              "      <td>0</td>\n",
              "    </tr>\n",
              "    <tr>\n",
              "      <th>4</th>\n",
              "      <td>-1.654020</td>\n",
              "      <td>0.797742</td>\n",
              "      <td>0</td>\n",
              "    </tr>\n",
              "  </tbody>\n",
              "</table>\n",
              "</div>\n",
              "    <div class=\"colab-df-buttons\">\n",
              "\n",
              "  <div class=\"colab-df-container\">\n",
              "    <button class=\"colab-df-convert\" onclick=\"convertToInteractive('df-41985467-3fa2-4f07-8dfe-cf18b1d6b308')\"\n",
              "            title=\"Convert this dataframe to an interactive table.\"\n",
              "            style=\"display:none;\">\n",
              "\n",
              "  <svg xmlns=\"http://www.w3.org/2000/svg\" height=\"24px\" viewBox=\"0 -960 960 960\">\n",
              "    <path d=\"M120-120v-720h720v720H120Zm60-500h600v-160H180v160Zm220 220h160v-160H400v160Zm0 220h160v-160H400v160ZM180-400h160v-160H180v160Zm440 0h160v-160H620v160ZM180-180h160v-160H180v160Zm440 0h160v-160H620v160Z\"/>\n",
              "  </svg>\n",
              "    </button>\n",
              "\n",
              "  <style>\n",
              "    .colab-df-container {\n",
              "      display:flex;\n",
              "      gap: 12px;\n",
              "    }\n",
              "\n",
              "    .colab-df-convert {\n",
              "      background-color: #E8F0FE;\n",
              "      border: none;\n",
              "      border-radius: 50%;\n",
              "      cursor: pointer;\n",
              "      display: none;\n",
              "      fill: #1967D2;\n",
              "      height: 32px;\n",
              "      padding: 0 0 0 0;\n",
              "      width: 32px;\n",
              "    }\n",
              "\n",
              "    .colab-df-convert:hover {\n",
              "      background-color: #E2EBFA;\n",
              "      box-shadow: 0px 1px 2px rgba(60, 64, 67, 0.3), 0px 1px 3px 1px rgba(60, 64, 67, 0.15);\n",
              "      fill: #174EA6;\n",
              "    }\n",
              "\n",
              "    .colab-df-buttons div {\n",
              "      margin-bottom: 4px;\n",
              "    }\n",
              "\n",
              "    [theme=dark] .colab-df-convert {\n",
              "      background-color: #3B4455;\n",
              "      fill: #D2E3FC;\n",
              "    }\n",
              "\n",
              "    [theme=dark] .colab-df-convert:hover {\n",
              "      background-color: #434B5C;\n",
              "      box-shadow: 0px 1px 3px 1px rgba(0, 0, 0, 0.15);\n",
              "      filter: drop-shadow(0px 1px 2px rgba(0, 0, 0, 0.3));\n",
              "      fill: #FFFFFF;\n",
              "    }\n",
              "  </style>\n",
              "\n",
              "    <script>\n",
              "      const buttonEl =\n",
              "        document.querySelector('#df-41985467-3fa2-4f07-8dfe-cf18b1d6b308 button.colab-df-convert');\n",
              "      buttonEl.style.display =\n",
              "        google.colab.kernel.accessAllowed ? 'block' : 'none';\n",
              "\n",
              "      async function convertToInteractive(key) {\n",
              "        const element = document.querySelector('#df-41985467-3fa2-4f07-8dfe-cf18b1d6b308');\n",
              "        const dataTable =\n",
              "          await google.colab.kernel.invokeFunction('convertToInteractive',\n",
              "                                                    [key], {});\n",
              "        if (!dataTable) return;\n",
              "\n",
              "        const docLinkHtml = 'Like what you see? Visit the ' +\n",
              "          '<a target=\"_blank\" href=https://colab.research.google.com/notebooks/data_table.ipynb>data table notebook</a>'\n",
              "          + ' to learn more about interactive tables.';\n",
              "        element.innerHTML = '';\n",
              "        dataTable['output_type'] = 'display_data';\n",
              "        await google.colab.output.renderOutput(dataTable, element);\n",
              "        const docLink = document.createElement('div');\n",
              "        docLink.innerHTML = docLinkHtml;\n",
              "        element.appendChild(docLink);\n",
              "      }\n",
              "    </script>\n",
              "  </div>\n",
              "\n",
              "\n",
              "<div id=\"df-b7ff12e9-db58-4e99-b30e-2cd0974ffd64\">\n",
              "  <button class=\"colab-df-quickchart\" onclick=\"quickchart('df-b7ff12e9-db58-4e99-b30e-2cd0974ffd64')\"\n",
              "            title=\"Suggest charts\"\n",
              "            style=\"display:none;\">\n",
              "\n",
              "<svg xmlns=\"http://www.w3.org/2000/svg\" height=\"24px\"viewBox=\"0 0 24 24\"\n",
              "     width=\"24px\">\n",
              "    <g>\n",
              "        <path d=\"M19 3H5c-1.1 0-2 .9-2 2v14c0 1.1.9 2 2 2h14c1.1 0 2-.9 2-2V5c0-1.1-.9-2-2-2zM9 17H7v-7h2v7zm4 0h-2V7h2v10zm4 0h-2v-4h2v4z\"/>\n",
              "    </g>\n",
              "</svg>\n",
              "  </button>\n",
              "\n",
              "<style>\n",
              "  .colab-df-quickchart {\n",
              "      --bg-color: #E8F0FE;\n",
              "      --fill-color: #1967D2;\n",
              "      --hover-bg-color: #E2EBFA;\n",
              "      --hover-fill-color: #174EA6;\n",
              "      --disabled-fill-color: #AAA;\n",
              "      --disabled-bg-color: #DDD;\n",
              "  }\n",
              "\n",
              "  [theme=dark] .colab-df-quickchart {\n",
              "      --bg-color: #3B4455;\n",
              "      --fill-color: #D2E3FC;\n",
              "      --hover-bg-color: #434B5C;\n",
              "      --hover-fill-color: #FFFFFF;\n",
              "      --disabled-bg-color: #3B4455;\n",
              "      --disabled-fill-color: #666;\n",
              "  }\n",
              "\n",
              "  .colab-df-quickchart {\n",
              "    background-color: var(--bg-color);\n",
              "    border: none;\n",
              "    border-radius: 50%;\n",
              "    cursor: pointer;\n",
              "    display: none;\n",
              "    fill: var(--fill-color);\n",
              "    height: 32px;\n",
              "    padding: 0;\n",
              "    width: 32px;\n",
              "  }\n",
              "\n",
              "  .colab-df-quickchart:hover {\n",
              "    background-color: var(--hover-bg-color);\n",
              "    box-shadow: 0 1px 2px rgba(60, 64, 67, 0.3), 0 1px 3px 1px rgba(60, 64, 67, 0.15);\n",
              "    fill: var(--button-hover-fill-color);\n",
              "  }\n",
              "\n",
              "  .colab-df-quickchart-complete:disabled,\n",
              "  .colab-df-quickchart-complete:disabled:hover {\n",
              "    background-color: var(--disabled-bg-color);\n",
              "    fill: var(--disabled-fill-color);\n",
              "    box-shadow: none;\n",
              "  }\n",
              "\n",
              "  .colab-df-spinner {\n",
              "    border: 2px solid var(--fill-color);\n",
              "    border-color: transparent;\n",
              "    border-bottom-color: var(--fill-color);\n",
              "    animation:\n",
              "      spin 1s steps(1) infinite;\n",
              "  }\n",
              "\n",
              "  @keyframes spin {\n",
              "    0% {\n",
              "      border-color: transparent;\n",
              "      border-bottom-color: var(--fill-color);\n",
              "      border-left-color: var(--fill-color);\n",
              "    }\n",
              "    20% {\n",
              "      border-color: transparent;\n",
              "      border-left-color: var(--fill-color);\n",
              "      border-top-color: var(--fill-color);\n",
              "    }\n",
              "    30% {\n",
              "      border-color: transparent;\n",
              "      border-left-color: var(--fill-color);\n",
              "      border-top-color: var(--fill-color);\n",
              "      border-right-color: var(--fill-color);\n",
              "    }\n",
              "    40% {\n",
              "      border-color: transparent;\n",
              "      border-right-color: var(--fill-color);\n",
              "      border-top-color: var(--fill-color);\n",
              "    }\n",
              "    60% {\n",
              "      border-color: transparent;\n",
              "      border-right-color: var(--fill-color);\n",
              "    }\n",
              "    80% {\n",
              "      border-color: transparent;\n",
              "      border-right-color: var(--fill-color);\n",
              "      border-bottom-color: var(--fill-color);\n",
              "    }\n",
              "    90% {\n",
              "      border-color: transparent;\n",
              "      border-bottom-color: var(--fill-color);\n",
              "    }\n",
              "  }\n",
              "</style>\n",
              "\n",
              "  <script>\n",
              "    async function quickchart(key) {\n",
              "      const quickchartButtonEl =\n",
              "        document.querySelector('#' + key + ' button');\n",
              "      quickchartButtonEl.disabled = true;  // To prevent multiple clicks.\n",
              "      quickchartButtonEl.classList.add('colab-df-spinner');\n",
              "      try {\n",
              "        const charts = await google.colab.kernel.invokeFunction(\n",
              "            'suggestCharts', [key], {});\n",
              "      } catch (error) {\n",
              "        console.error('Error during call to suggestCharts:', error);\n",
              "      }\n",
              "      quickchartButtonEl.classList.remove('colab-df-spinner');\n",
              "      quickchartButtonEl.classList.add('colab-df-quickchart-complete');\n",
              "    }\n",
              "    (() => {\n",
              "      let quickchartButtonEl =\n",
              "        document.querySelector('#df-b7ff12e9-db58-4e99-b30e-2cd0974ffd64 button');\n",
              "      quickchartButtonEl.style.display =\n",
              "        google.colab.kernel.accessAllowed ? 'block' : 'none';\n",
              "    })();\n",
              "  </script>\n",
              "</div>\n",
              "    </div>\n",
              "  </div>\n"
            ]
          },
          "metadata": {},
          "execution_count": 13
        }
      ]
    },
    {
      "cell_type": "code",
      "source": [
        "df['target'].value_counts()"
      ],
      "metadata": {
        "colab": {
          "base_uri": "https://localhost:8080/"
        },
        "id": "HGc_4qwerbYd",
        "outputId": "169980ba-f21d-43c7-941b-e8eded327d3f"
      },
      "execution_count": 14,
      "outputs": [
        {
          "output_type": "execute_result",
          "data": {
            "text/plain": [
              "0    900\n",
              "1    100\n",
              "Name: target, dtype: int64"
            ]
          },
          "metadata": {},
          "execution_count": 14
        }
      ]
    },
    {
      "cell_type": "code",
      "source": [
        "df_resampled = resample(df[df['target'] == 1], replace = True, n_samples = 800, random_state = 14)"
      ],
      "metadata": {
        "id": "F1WyQ7iqsHuU"
      },
      "execution_count": 15,
      "outputs": []
    },
    {
      "cell_type": "code",
      "source": [
        "df_resampled['target'].value_counts()"
      ],
      "metadata": {
        "colab": {
          "base_uri": "https://localhost:8080/"
        },
        "id": "65oB2KcxtDPd",
        "outputId": "f1c1dbb9-3cc2-467a-e426-9df63d36393b"
      },
      "execution_count": 16,
      "outputs": [
        {
          "output_type": "execute_result",
          "data": {
            "text/plain": [
              "1    800\n",
              "Name: target, dtype: int64"
            ]
          },
          "metadata": {},
          "execution_count": 16
        }
      ]
    },
    {
      "cell_type": "code",
      "source": [
        "df2 = pd.concat([df, df_resampled], axis = 0)\n",
        "df2['target'].value_counts()"
      ],
      "metadata": {
        "colab": {
          "base_uri": "https://localhost:8080/"
        },
        "id": "SrEGJh5WtFPs",
        "outputId": "0353920a-37f1-43c6-ee7d-49381d0fb40e"
      },
      "execution_count": 17,
      "outputs": [
        {
          "output_type": "execute_result",
          "data": {
            "text/plain": [
              "0    900\n",
              "1    900\n",
              "Name: target, dtype: int64"
            ]
          },
          "metadata": {},
          "execution_count": 17
        }
      ]
    },
    {
      "cell_type": "markdown",
      "source": [
        "Q5: What is data Augmentation? Explain SMOTE."
      ],
      "metadata": {
        "id": "RD127MOkxchZ"
      }
    },
    {
      "cell_type": "markdown",
      "source": [
        "**Data Augmentation:**\n",
        "\n",
        "Data augmentation is a technique used in machine learning to artificially increase the size of a training dataset by applying various transformations to the existing data. The goal is to create additional variations of the original data, providing the model with a more diverse set of examples. Data augmentation is commonly used in computer vision tasks, such as image classification, where the augmented data can include variations in rotation, scaling, cropping, and flipping.\n",
        "\n",
        "By introducing augmented data, the model becomes more robust and better generalizes to variations it might encounter during testing. Data augmentation helps prevent overfitting and improves the model's ability to capture underlying patterns in the data.\n",
        "\n",
        "**SMOTE (Synthetic Minority Over-sampling Technique):**\n",
        "\n",
        "SMOTE is a specific data augmentation technique designed to address the issue of imbalanced datasets, particularly in the context of classification tasks with minority and majority classes. The primary goal of SMOTE is to increase the representation of the minority class by generating synthetic instances.\n",
        "\n",
        "**How SMOTE Works:**\n",
        "\n",
        "1. **Identify Minority Class Instances:**\n",
        "   - SMOTE operates on the instances of the minority class in the dataset.\n",
        "\n",
        "2. **Select a Minority Instance:**\n",
        "   - Randomly choose an instance from the minority class.\n",
        "\n",
        "3. **Find Neighbors:**\n",
        "   - Identify k-nearest neighbors for the selected instance. The value of k is a user-defined parameter.\n",
        "\n",
        "4. **Generate Synthetic Instances:**\n",
        "   - For each neighbor, create a synthetic instance along the line connecting the selected instance and the neighbor. The number of synthetic instances created is also a user-defined parameter.\n",
        "\n",
        "5. **Repeat for Other Instances:**\n",
        "   - Repeat the process for other instances in the minority class.\n",
        "\n",
        "**Example:**\n",
        "\n",
        "Consider a dataset with two classes, A and B, where class A is the minority class. SMOTE would select instances from class A, identify their nearest neighbors, and generate synthetic instances along the lines connecting the selected instances and their neighbors. The resulting dataset would have an increased representation of the minority class.\n",
        "\n",
        "**Advantages of SMOTE:**\n",
        "\n",
        "1. **Addresses Imbalance:** SMOTE helps address the class imbalance problem by generating synthetic instances for the minority class, balancing the distribution.\n",
        "\n",
        "2. **Prevents Overfitting:** By introducing synthetic instances, SMOTE helps the model generalize better to minority class examples, reducing the risk of overfitting.\n",
        "\n",
        "3. **Improved Classification:** With a more balanced dataset, the model can learn better decision boundaries, leading to improved classification performance.\n",
        "\n",
        "**Considerations:**\n",
        "\n",
        "- While SMOTE is effective in certain scenarios, it may not be suitable for all types of data or tasks.\n",
        "- Care should be taken when applying SMOTE, especially in cases where the creation of synthetic instances may introduce noise or outliers.\n",
        "- The choice of parameters, such as the number of neighbors and the number of synthetic instances to generate, can impact the effectiveness of SMOTE."
      ],
      "metadata": {
        "id": "pps290TkxiRo"
      }
    },
    {
      "cell_type": "markdown",
      "source": [
        "Q6: What are outliers in a dataset? Why is it essential to handle outliers?\n"
      ],
      "metadata": {
        "id": "qV43n00ayMy4"
      }
    },
    {
      "cell_type": "markdown",
      "source": [
        "**Outliers in a Dataset:**\n",
        "\n",
        "Outliers are data points that significantly differ from the majority of the other data points in a dataset. These data points are usually distant from the central tendency of the data, such as the mean or median. Outliers can occur due to various reasons, including measurement errors, data entry mistakes, natural variation, or rare events. Identifying and handling outliers is crucial for accurate statistical analysis and model development.\n",
        "\n",
        "**Importance of Handling Outliers:**\n",
        "\n",
        "1. **Impact on Descriptive Statistics:**\n",
        "   - **Issue:** Outliers can heavily influence summary statistics such as the mean and standard deviation.\n",
        "   - **Consequence:** Descriptive statistics may not accurately represent the central tendency and variability of the majority of the data.\n",
        "\n",
        "2. **Distortion of Data Distributions:**\n",
        "   - **Issue:** Outliers can skew the distribution of the data.\n",
        "   - **Consequence:** Data distributions may appear non-normal, affecting the validity of statistical tests and assumptions.\n",
        "\n",
        "3. **Model Performance:**\n",
        "   - **Issue:** Outliers can disproportionately impact model training, especially in algorithms sensitive to extreme values.\n",
        "   - **Consequence:** Models may be influenced or biased by outliers, leading to poor generalization to new data.\n",
        "\n",
        "4. **Validity of Statistical Tests:**\n",
        "   - **Issue:** Outliers can violate the assumptions of certain statistical tests.\n",
        "   - **Consequence:** Statistical tests may produce inaccurate results if the assumptions, such as normality, are not met.\n",
        "\n",
        "5. **Robustness of Models:**\n",
        "   - **Issue:** Outliers can lead to the violation of assumptions of linear models.\n",
        "   - **Consequence:** Linear models may provide inaccurate parameter estimates, affecting the reliability of predictions.\n",
        "\n",
        "6. **Data Visualization:**\n",
        "   - **Issue:** Outliers can distort visualizations, making it challenging to interpret patterns and trends.\n",
        "   - **Consequence:** Misleading visualizations may hinder the understanding of the underlying data.\n"
      ],
      "metadata": {
        "id": "2RS1de8rydWO"
      }
    },
    {
      "cell_type": "markdown",
      "source": [
        "Q7: You are working on a project that requires analyzing customer data. However, you notice that some of the data is missing. What are some techniques you can use to handle the missing data in your analysis?\n"
      ],
      "metadata": {
        "id": "2fUBpZ21B_w2"
      }
    },
    {
      "cell_type": "markdown",
      "source": [
        "If the missing data is a numerical data then I will perform median or mean imputation, if the missing data is a categorical data then i will perform mode imputation."
      ],
      "metadata": {
        "id": "NzAcBNDlCEaX"
      }
    },
    {
      "cell_type": "markdown",
      "source": [
        "Q8: You are working with a large dataset and find that a small percentage of the data is missing. What are some strategies you can use to determine if the missing data is missing at random or if there is a pattern to the missing data?\n"
      ],
      "metadata": {
        "id": "cHH3bIb2CvuE"
      }
    },
    {
      "cell_type": "markdown",
      "source": [
        "When dealing with missing data in a large dataset, understanding whether the missing data is missing completely at random (MCAR), missing at random (MAR), or missing not at random (MNAR) can provide insights into potential biases and guide appropriate strategies for handling missing values. Here are some strategies to explore and determine the nature of missing data:\n",
        "\n",
        "1. **Descriptive Statistics:**\n",
        "   - Examine summary statistics for variables with missing values and compare them with those without missing values.\n",
        "   - If the summary statistics are similar between the two groups, it suggests missing data might be MCAR or MAR.\n",
        "\n",
        "2. **Correlation Analysis:**\n",
        "   - Conduct correlation analysis to identify relationships between missing and non-missing variables.\n",
        "   - If there is no significant correlation, it suggests the missing data might be MCAR.\n",
        "\n",
        "3. **Visualization:**\n",
        "   - Use visualizations such as heatmaps or histograms to visually inspect patterns of missing values.\n",
        "   - Look for patterns or clusters of missing values that could indicate a non-random process.\n",
        "\n",
        "4. **Missing Data Patterns:**\n",
        "   - Explore patterns of missing values across different variables and observations.\n",
        "   - Identify if there is a systematic pattern or if the missingness seems random.\n",
        "\n",
        "5. **Missingness Tests:**\n",
        "   - Conduct statistical tests for missingness, such as Little's MCAR test.\n",
        "   - These tests assess whether missing values are related to observed values. A non-significant result suggests MCAR.\n",
        "\n",
        "6. **Imputation and Comparison:**\n",
        "   - Impute missing values using different imputation methods.\n",
        "   - Compare the results of analyses with imputed values to those without imputed values. If imputation methods yield similar results, it suggests the missing data might be MCAR or MAR.\n",
        "\n",
        "7. **Domain Knowledge:**\n",
        "   - Leverage domain knowledge to understand whether the missingness makes sense in the context of the data collection process.\n",
        "   - If missing values align with expectations based on the domain, it may provide insights into whether missingness is MNAR.\n",
        "\n",
        "8. **Missing Data Models:**\n",
        "   - Consider using missing data models, where the missingness mechanism is explicitly modeled.\n",
        "   - Techniques like multiple imputation with an appropriate missing data model can help account for the uncertainty introduced by missing data.\n",
        "\n",
        "9. **Time-Based Analysis:**\n",
        "   - If the data is collected over time, analyze whether there are temporal patterns in missing data.\n",
        "   - Changes in missingness patterns over time may suggest MAR or MNAR.\n",
        "\n",
        "10. **Sensitivity Analysis:**\n",
        "    - Perform sensitivity analyses by assuming different missing data mechanisms and assessing the impact on study results.\n",
        "    - Evaluate how robust the findings are to different assumptions about missingness."
      ],
      "metadata": {
        "id": "p2XQnObjD6n_"
      }
    },
    {
      "cell_type": "markdown",
      "source": [
        "Q9: Suppose you are working on a medical diagnosis project and find that the majority of patients in the dataset do not have the condition of interest, while a small percentage do. What are some strategies you can use to evaluate the performance of your machine learning model on this imbalanced dataset?\n"
      ],
      "metadata": {
        "id": "gxhmX1B-Exw9"
      }
    },
    {
      "cell_type": "markdown",
      "source": [
        "I will use Synthetic Minority Over-sampling Technique(SMOTE) to over sample the minority class and to balance the dataset."
      ],
      "metadata": {
        "id": "E-WKnTr5GzXb"
      }
    },
    {
      "cell_type": "markdown",
      "source": [
        "Q10: When attempting to estimate customer satisfaction for a project, you discover that the dataset is unbalanced, with the bulk of customers reporting being satisfied. What methods can you employ to balance the dataset and down-sample the majority class?\n"
      ],
      "metadata": {
        "id": "fBxRHWIbHfHt"
      }
    },
    {
      "cell_type": "markdown",
      "source": [
        " I will use down-sampling technique to down-sample the majority class data. I will implementing this using `sklearn.utils.resample` library."
      ],
      "metadata": {
        "id": "Ovr6cjYnHwsq"
      }
    },
    {
      "cell_type": "markdown",
      "source": [
        "Q11: You discover that the dataset is unbalanced with a low percentage of occurrences while working on a project that requires you to estimate the occurrence of a rare event. What methods can you employ to balance the dataset and up-sample the minority class?"
      ],
      "metadata": {
        "id": "OqBT1rupJS3G"
      }
    },
    {
      "cell_type": "markdown",
      "source": [
        "I will use over-sampling technique or SMOTE to over-sample the minority class data.\n",
        "I will implement this using `sklearn.utils.resample` and `imbalance.oversampling.SMOTE` libraries."
      ],
      "metadata": {
        "id": "z8aYOzgoJeok"
      }
    },
    {
      "cell_type": "code",
      "source": [],
      "metadata": {
        "id": "sl4gia0zvGiS"
      },
      "execution_count": 17,
      "outputs": []
    }
  ]
}